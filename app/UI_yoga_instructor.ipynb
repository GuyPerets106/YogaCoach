{
 "cells": [
  {
   "cell_type": "code",
   "execution_count": 1,
   "metadata": {},
   "outputs": [],
   "source": []
  },
  {
   "cell_type": "code",
   "execution_count": 4,
   "metadata": {},
   "outputs": [],
   "source": []
  },
  {
   "cell_type": "code",
   "execution_count": 1,
   "metadata": {},
   "outputs": [
    {
     "ename": "AttributeError",
     "evalue": "module 'cv2' has no attribute 'TERM_CRITERIA_EPS'",
     "output_type": "error",
     "traceback": [
      "\u001b[1;31m---------------------------------------------------------------------------\u001b[0m",
      "\u001b[1;31mAttributeError\u001b[0m                            Traceback (most recent call last)",
      "Cell \u001b[1;32mIn[1], line 19\u001b[0m\n\u001b[0;32m     10\u001b[0m feature_params \u001b[38;5;241m=\u001b[39m \u001b[38;5;28mdict\u001b[39m(maxCorners\u001b[38;5;241m=\u001b[39m\u001b[38;5;241m100\u001b[39m,\n\u001b[0;32m     11\u001b[0m                       qualityLevel\u001b[38;5;241m=\u001b[39m\u001b[38;5;241m0.3\u001b[39m,\n\u001b[0;32m     12\u001b[0m                       minDistance\u001b[38;5;241m=\u001b[39m\u001b[38;5;241m7\u001b[39m,\n\u001b[0;32m     13\u001b[0m                       blockSize\u001b[38;5;241m=\u001b[39m\u001b[38;5;241m7\u001b[39m)\n\u001b[0;32m     15\u001b[0m \u001b[38;5;66;03m# Parameters for lucas kanade optical flow\u001b[39;00m\n\u001b[0;32m     16\u001b[0m lk_params \u001b[38;5;241m=\u001b[39m {\n\u001b[0;32m     17\u001b[0m     \u001b[38;5;124m\"\u001b[39m\u001b[38;5;124mwinSize\u001b[39m\u001b[38;5;124m\"\u001b[39m: (\u001b[38;5;241m15\u001b[39m, \u001b[38;5;241m15\u001b[39m),\n\u001b[0;32m     18\u001b[0m     \u001b[38;5;124m\"\u001b[39m\u001b[38;5;124mmaxLevel\u001b[39m\u001b[38;5;124m\"\u001b[39m: \u001b[38;5;241m2\u001b[39m,\n\u001b[1;32m---> 19\u001b[0m     \u001b[38;5;124m\"\u001b[39m\u001b[38;5;124mcriteria\u001b[39m\u001b[38;5;124m\"\u001b[39m: (\u001b[43mcv\u001b[49m\u001b[38;5;241;43m.\u001b[39;49m\u001b[43mTERM_CRITERIA_EPS\u001b[49m \u001b[38;5;241m|\u001b[39m cv\u001b[38;5;241m.\u001b[39mTERM_CRITERIA_COUNT, \u001b[38;5;241m10\u001b[39m, \u001b[38;5;241m0.03\u001b[39m)\n\u001b[0;32m     20\u001b[0m }\n\u001b[0;32m     22\u001b[0m \u001b[38;5;66;03m# Create some random colors\u001b[39;00m\n\u001b[0;32m     23\u001b[0m color \u001b[38;5;241m=\u001b[39m np\u001b[38;5;241m.\u001b[39mrandom\u001b[38;5;241m.\u001b[39mrandint(\u001b[38;5;241m0\u001b[39m, \u001b[38;5;241m255\u001b[39m, (\u001b[38;5;241m100\u001b[39m, \u001b[38;5;241m3\u001b[39m))\n",
      "\u001b[1;31mAttributeError\u001b[0m: module 'cv2' has no attribute 'TERM_CRITERIA_EPS'"
     ]
    }
   ],
   "source": []
  },
  {
   "cell_type": "code",
   "execution_count": 3,
   "metadata": {},
   "outputs": [],
   "source": [
    "#The code of the text to speech\n",
    "\n",
    "from gtts import gTTS\n",
    "import pygame\n",
    "import io\n",
    "#pip install gtts pygame\n",
    "\n",
    "def text_to_speech(text, language='en', slow=False):\n",
    "    # Convert text to speech\n",
    "    tts = gTTS(text=text, lang=language, slow=slow)\n",
    "    \n",
    "    # Save the audio to a BytesIO object instead of a file\n",
    "    audio_data = io.BytesIO()\n",
    "    tts.write_to_fp(audio_data)\n",
    "    audio_data.seek(0)\n",
    "    \n",
    "    # Initialize pygame mixer\n",
    "    pygame.mixer.init()\n",
    "    \n",
    "    # Load the audio data into pygame\n",
    "    pygame.mixer.music.load(audio_data, 'mp3')\n",
    "    \n",
    "    # Play the audio\n",
    "    pygame.mixer.music.play()\n",
    "    \n",
    "    # Keep the program running until the audio is done playing\n",
    "    while pygame.mixer.music.get_busy():\n",
    "        pygame.time.Clock().tick(10)\n",
    "\n",
    "# Example usage\n",
    "english_text = \"Firstly, raise your hands, then bend forward with your back straight, all the way to your shin\"\n",
    "text_to_speech(english_text)\n"
   ]
  },
  {
   "cell_type": "code",
   "execution_count": 1,
   "metadata": {},
   "outputs": [
    {
     "name": "stdout",
     "output_type": "stream",
     "text": [
      " C:\\Users\\adva4\\Downloads\\Advas stuff\\studies\\digital image processing\\project\\example_adva_full.mov\n"
     ]
    },
    {
     "data": {
      "text/plain": [
       "-1"
      ]
     },
     "execution_count": 1,
     "metadata": {},
     "output_type": "execute_result"
    }
   ],
   "source": [
    "#The code for the offline video running overlayed on the real time video\n",
    "\n",
    "import cv2\n",
    "\n",
    "# Initialize the real-time video capture (webcam)\n",
    "cap = cv2.VideoCapture(0)\n",
    "if not cap.isOpened():\n",
    "    print(\"Failed to open the real-time video stream.\")\n",
    "    exit()\n",
    "\n",
    "# Initialize the overlay video capture (pre-recorded video)\n",
    "overlay_video_path = r' C:\\Users\\adva4\\Downloads\\Advas stuff\\studies\\digital image processing\\project\\example_adva_full.mov'\n",
    "print(overlay_video_path)\n",
    "overlay_cap = cv2.VideoCapture(overlay_video_path)\n",
    "if not overlay_cap.isOpened():\n",
    "    print(f\"Failed to open the overlay video: {overlay_video_path}\")\n",
    "    exit()\n",
    "\n",
    "# Set the size of the overlay video box\n",
    "overlay_width = 400  # Width of the small video\n",
    "overlay_height = 300  # Height of the small video\n",
    "\n",
    "# Loop to continuously get frames from the real-time video\n",
    "while True:\n",
    "    ret, frame = cap.read()  # Capture real-time video frame\n",
    "    if not ret:\n",
    "        print(\"Failed to read real-time frame\")\n",
    "        break\n",
    "    # cv2.imshow('Frame', frame)\n",
    "    ret2, overlay_frame = overlay_cap.read()  # Capture overlay video frame\n",
    "    if ret2:\n",
    "        overlay_frame = cv2.resize(overlay_frame, (overlay_width, overlay_height))  # Resize the overlay video frame\n",
    "        # Position the overlay frame in the top-left corner of the real-time frame\n",
    "        frame[10:10 + overlay_height, 10:10 + overlay_width] = overlay_frame\n",
    "    else:\n",
    "        # Restart the overlay video if it ends\n",
    "        overlay_cap.set(cv2.CAP_PROP_POS_FRAMES, 0)\n",
    "\n",
    "    # Display the resulting frame\n",
    "    cv2.imshow('Real-Time Video with Overlay', frame)\n",
    "\n",
    "    # Break the loop on 'q' key press\n",
    "    key = cv2.waitKey(1) \n",
    "    if key == ord('q') or key == 27:\n",
    "        break\n",
    "\n",
    "# Release the video captures when done\n",
    "cap.release()\n",
    "overlay_cap.release()\n",
    "cv2.waitKey(1)\n",
    "cv2.destroyAllWindows()\n",
    "cv2.waitKey(1)\n"
   ]
  }
 ],
 "metadata": {
  "kernelspec": {
   "display_name": "Python 3",
   "language": "python",
   "name": "python3"
  },
  "language_info": {
   "codemirror_mode": {
    "name": "ipython",
    "version": 3
   },
   "file_extension": ".py",
   "mimetype": "text/x-python",
   "name": "python",
   "nbconvert_exporter": "python",
   "pygments_lexer": "ipython3",
   "version": "3.11.9"
  }
 },
 "nbformat": 4,
 "nbformat_minor": 2
}
